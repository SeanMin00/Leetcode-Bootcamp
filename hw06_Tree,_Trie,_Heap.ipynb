{
  "nbformat": 4,
  "nbformat_minor": 0,
  "metadata": {
    "colab": {
      "provenance": [],
      "authorship_tag": "ABX9TyNb2ukZVHuexIMzSG3ZlgXE",
      "include_colab_link": true
    },
    "kernelspec": {
      "name": "python3",
      "display_name": "Python 3"
    },
    "language_info": {
      "name": "python"
    }
  },
  "cells": [
    {
      "cell_type": "markdown",
      "metadata": {
        "id": "view-in-github",
        "colab_type": "text"
      },
      "source": [
        "<a href=\"https://colab.research.google.com/github/SeanMin00/Leetcode-Bootcamp/blob/main/hw06_Tree%2C_Trie%2C_Heap.ipynb\" target=\"_parent\"><img src=\"https://colab.research.google.com/assets/colab-badge.svg\" alt=\"Open In Colab\"/></a>"
      ]
    },
    {
      "cell_type": "markdown",
      "source": [
        "#236. Lowest Common Ancestor of a Binary Tree\n",
        "https://leetcode.com/problems/lowest-common-ancestor-of-a-binary-tree/description/\n",
        "\n",
        "\n",
        "\n",
        "Given a binary tree, find the lowest common ancestor (LCA) of two given nodes in the tree.\n",
        "\n",
        "According to the definition of LCA on Wikipedia: “The lowest common ancestor is defined between two nodes p and q as the lowest node in T that has both p and q as descendants (where we allow a node to be a descendant of itself).”\n",
        "\n",
        "\n",
        "\n",
        "Example 1:\n",
        "\n",
        "\n",
        "Input: root = [3,5,1,6,2,0,8,null,null,7,4], p = 5, q = 1\n",
        "Output: 3\n",
        "Explanation: The LCA of nodes 5 and 1 is 3.\n",
        "Example 2:\n",
        "\n",
        "\n",
        "Input: root = [3,5,1,6,2,0,8,null,null,7,4], p = 5, q = 4\n",
        "Output: 5\n",
        "Explanation: The LCA of nodes 5 and 4 is 5, since a node can be a descendant of itself according to the LCA definition.\n",
        "Example 3:\n",
        "\n",
        "Input: root = [1,2], p = 1, q = 2\n",
        "Output: 1\n",
        "\n",
        "\n",
        "Constraints:\n",
        "\n",
        "The number of nodes in the tree is in the range [2, 105].\n",
        "-109 <= Node.val <= 109\n",
        "All Node.val are unique.\n",
        "p != q\n",
        "p and q will exist in the tree.\n",
        "\n",
        "\n",
        "\n",
        "🧾 문제 설명: Lowest Common Ancestor of a Binary Tree\n",
        "✅ 문제 요약\n",
        "이진 트리에서 두 노드 p, q가 주어졌을 때,\n",
        "\n",
        "이 둘의 **최저 공통 조상(LCA)**을 찾아 반환하라.\n",
        "\n",
        "정의: LCA는 **두 노드를 모두 자식(자기 자신 포함)**으로 가지는 가장 낮은 노드"
      ],
      "metadata": {
        "id": "kMiYemeEOp-O"
      }
    },
    {
      "cell_type": "code",
      "execution_count": null,
      "metadata": {
        "id": "Q_8HQw81OSNH"
      },
      "outputs": [],
      "source": [
        "# Definition for a binary tree node.\n",
        "# class TreeNode:\n",
        "#     def __init__(self, x):\n",
        "#         self.val = x\n",
        "#         self.left = None\n",
        "#         self.right = None\n",
        "\n",
        "class Solution:\n",
        "    def lowestCommonAncestor(self, root: \"TreeNode\", p: \"TreeNode\", q: \"TreeNode\") -> \"TreeNode\":\n",
        "        # 기저 조건: 현재 노드가 None이거나, p 또는 q이면 그 노드를 반환\n",
        "        if root in (None, p, q):\n",
        "            return root\n",
        "\n",
        "        # 왼쪽과 오른쪽 서브트리 탐색\n",
        "        left = self.lowestCommonAncestor(root.left, p, q)\n",
        "        right = self.lowestCommonAncestor(root.right, p, q)\n",
        "\n",
        "        # 왼쪽과 오른쪽에서 각각 p, q를 찾은 경우 → 현재 노드가 공통 조상\n",
        "        if left and right:\n",
        "            return root\n",
        "\n",
        "        # 둘 중 하나만 존재하면 그 쪽 값 리턴 (그쪽에 공통 조상이 있음)\n",
        "        return left or right\n"
      ]
    },
    {
      "cell_type": "markdown",
      "source": [
        "#347. Top K Frequent Elements\n",
        "\n",
        "https://leetcode.com/problems/top-k-frequent-elements/description/?envType=problem-list-v2&envId=heap-priority-queue\n",
        "\n",
        "\n",
        "\n",
        "\n",
        "\n",
        "\n",
        "Given an integer array nums and an integer k, return the k most frequent elements. You may return the answer in any order.\n",
        "\n",
        "\n",
        "\n",
        "Example 1:\n",
        "\n",
        "Input: nums = [1,1,1,2,2,3], k = 2\n",
        "Output: [1,2]\n",
        "Example 2:\n",
        "\n",
        "Input: nums = [1], k = 1\n",
        "Output: [1]\n",
        "\n",
        "\n",
        "Constraints:\n",
        "\n",
        "1 <= nums.length <= 105\n",
        "-104 <= nums[i] <= 104\n",
        "k is in the range [1, the number of unique elements in the array].\n",
        "It is guaranteed that the answer is unique.\n",
        "\n",
        "\n",
        "\n",
        "\n",
        "\n",
        "\n",
        "\n",
        "\n",
        "🧾 문제 설명: Top K Frequent Elements\n",
        "✅ 문제 요약\n",
        "입력:\n",
        "\n",
        "정수 배열 nums\n",
        "\n",
        "정수 k (1 ≤ k ≤ 고유한 원소 개수)\n",
        "\n",
        "출력:\n",
        "\n",
        "배열에서 가장 자주 등장하는 k개의 원소 (순서는 상관 없음)\n",
        "\n",
        "\n",
        "\n"
      ],
      "metadata": {
        "id": "2zN2-3vUO9OS"
      }
    },
    {
      "cell_type": "code",
      "source": [
        "from collections import Counter\n",
        "from typing import List\n",
        "\n",
        "class Solution:\n",
        "    def topKFrequent(self, nums: List[int], k: int) -> List[int]:\n",
        "        # 1. 각 숫자의 등장 횟수를 세기\n",
        "        cnt = Counter(nums)\n",
        "\n",
        "        # 2. 가장 자주 등장한 k개의 (원소, 빈도수) 튜플 반환\n",
        "        # 3. 결과에서 원소만 추출해서 리스트로 반환\n",
        "        return [x for x, _ in cnt.most_common(k)]\n"
      ],
      "metadata": {
        "id": "lUWFW--dOrS-"
      },
      "execution_count": null,
      "outputs": []
    },
    {
      "cell_type": "markdown",
      "source": [],
      "metadata": {
        "id": "5zFgQAHJOq1K"
      }
    }
  ]
}