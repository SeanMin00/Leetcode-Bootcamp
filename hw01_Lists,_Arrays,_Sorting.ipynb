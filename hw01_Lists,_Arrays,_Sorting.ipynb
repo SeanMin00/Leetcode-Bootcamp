{
  "nbformat": 4,
  "nbformat_minor": 0,
  "metadata": {
    "colab": {
      "provenance": [],
      "authorship_tag": "ABX9TyNbObJotFy2G9RKaSLICuDB",
      "include_colab_link": true
    },
    "kernelspec": {
      "name": "python3",
      "display_name": "Python 3"
    },
    "language_info": {
      "name": "python"
    }
  },
  "cells": [
    {
      "cell_type": "markdown",
      "metadata": {
        "id": "view-in-github",
        "colab_type": "text"
      },
      "source": [
        "<a href=\"https://colab.research.google.com/github/SeanMin00/Leetcode-Bootcamp/blob/main/hw01_Lists%2C_Arrays%2C_Sorting.ipynb\" target=\"_parent\"><img src=\"https://colab.research.google.com/assets/colab-badge.svg\" alt=\"Open In Colab\"/></a>"
      ]
    },
    {
      "cell_type": "markdown",
      "source": [
        "##75. Sort Colors (Medium)\n",
        "Given an array nums with n objects colored red, white, or blue, sort them in-place so that objects of the same color are adjacent, with the colors in the order red, white, and blue.\n",
        "\n",
        "We will use the integers 0, 1, and 2 to represent the color red, white, and blue, respectively.\n",
        "\n",
        "You must solve this problem without using the library's sort function.\n",
        "\n",
        "\n",
        "\n",
        "Example 1:\n",
        "\n",
        "Input: nums = [2,0,2,1,1,0]\n",
        "Output: [0,0,1,1,2,2]\n",
        "Example 2:\n",
        "\n",
        "Input: nums = [2,0,1]\n",
        "Output: [0,1,2]\n",
        "\n",
        "\n",
        "Constraints:\n",
        "\n",
        "n == nums.length\n",
        "1 <= n <= 300\n",
        "nums[i] is either 0, 1, or 2."
      ],
      "metadata": {
        "id": "EzSZ6vFPpLiP"
      }
    },
    {
      "cell_type": "code",
      "execution_count": null,
      "metadata": {
        "id": "R-W0JYIYmrOF"
      },
      "outputs": [],
      "source": [
        "class Solution(object):\n",
        "    def sortColors(self, nums):\n",
        "        \"\"\"\n",
        "        :type nums: List[int]\n",
        "        :rtype: None Do not return anything, modify nums in-place instead.\n",
        "        \"\"\"\n",
        "\n",
        "        output = []\n",
        "        count = [0, 0, 0]\n",
        "        for i in nums:\n",
        "            if i == 0:\n",
        "                count[0] += 1\n",
        "            elif i == 1:\n",
        "                count[1] += 1\n",
        "            else:\n",
        "                count[2] += 1\n",
        "\n",
        "        index = 0\n",
        "        for color in range(3):\n",
        "            for _ in range(count[color]):\n",
        "                nums[index] = color\n",
        "                index += 1\n",
        "\n",
        "        print(nums)\n"
      ]
    },
    {
      "cell_type": "markdown",
      "source": [
        "##167. Two Sum II - Input Array Is Sorted (Medium)\n",
        "\n",
        "Given a 1-indexed array of integers numbers that is already sorted in non-decreasing order, find two numbers such that they add up to a specific target number. Let these two numbers be numbers[index1] and numbers[index2] where 1 <= index1 < index2 <= numbers.length.\n",
        "\n",
        "Return the indices of the two numbers, index1 and index2, added by one as an integer array [index1, index2] of length 2.\n",
        "\n",
        "The tests are generated such that there is exactly one solution. You may not use the same element twice.\n",
        "\n",
        "Your solution must use only constant extra space.\n",
        "\n",
        "\n",
        "\n",
        "Example 1:\n",
        "\n",
        "Input: numbers = [2,7,11,15], target = 9\n",
        "Output: [1,2]\n",
        "Explanation: The sum of 2 and 7 is 9. Therefore, index1 = 1, index2 = 2. We return [1, 2].\n",
        "Example 2:\n",
        "\n",
        "Input: numbers = [2,3,4], target = 6\n",
        "Output: [1,3]\n",
        "Explanation: The sum of 2 and 4 is 6. Therefore index1 = 1, index2 = 3. We return [1, 3].\n",
        "Example 3:\n",
        "\n",
        "Input: numbers = [-1,0], target = -1\n",
        "Output: [1,2]\n",
        "Explanation: The sum of -1 and 0 is -1. Therefore index1 = 1, index2 = 2. We return [1, 2].\n",
        "\n",
        "\n",
        "Constraints:\n",
        "\n",
        "2 <= numbers.length <= 3 * 104\n",
        "\n",
        "-1000 <= numbers[i] <= 1000\n",
        "\n",
        "numbers is sorted in non-decreasing order.\n",
        "\n",
        "-1000 <= target <= 1000\n",
        "\n",
        "The tests are generated such that there is exactly one solution.\n"
      ],
      "metadata": {
        "id": "VB2pHBEVpakT"
      }
    },
    {
      "cell_type": "code",
      "source": [
        "class Solution(object):\n",
        "    def twoSum(self, numbers, target):\n",
        "        \"\"\"\n",
        "        :type numbers: List[int]\n",
        "        :type target: int\n",
        "        :rtype: List[int]\n",
        "        \"\"\"\n",
        "        prt1, ptr2 = 0, len(numbers) - 1\n",
        "        while prt1 < ptr2:\n",
        "            current_sum = numbers[prt1] + numbers[ptr2]\n",
        "            if current_sum == target:\n",
        "                return [prt1 + 1, ptr2 + 1]\n",
        "            elif current_sum < target:\n",
        "                prt1 += 1\n",
        "            else:\n",
        "                ptr2 -= 1\n"
      ],
      "metadata": {
        "id": "aFlfSrnDrh6E"
      },
      "execution_count": null,
      "outputs": []
    },
    {
      "cell_type": "markdown",
      "source": [
        "#@238. Product of Array Except Self (Medium)\n",
        "Given an integer array nums, return an array answer such that answer[i] is equal to the product of all the elements of nums except nums[i].\n",
        "\n",
        "The product of any prefix or suffix of nums is guaranteed to fit in a 32-bit integer.\n",
        "\n",
        "You must write an algorithm that runs in O(n) time and without using the division operation.\n",
        "\n",
        "\n",
        "\n",
        "Example 1:\n",
        "\n",
        "Input: nums = [1,2,3,4]\n",
        "Output: [24,12,8,6]\n",
        "Example 2:\n",
        "\n",
        "Input: nums = [-1,1,0,-3,3]\n",
        "Output: [0,0,9,0,0]\n",
        "\n",
        "\n",
        "Constraints:\n",
        "\n",
        "2 <= nums.length <= 105\n",
        "-30 <= nums[i] <= 30\n",
        "The input is generated such that answer[i] is guaranteed to fit in a 32-bit integer."
      ],
      "metadata": {
        "id": "CF5cZppZ3rhN"
      }
    },
    {
      "cell_type": "code",
      "source": [
        "class Solution(object):\n",
        "    def productExceptSelf(self, nums):\n",
        "        \"\"\"\n",
        "        :type nums: List[int]\n",
        "        :rtype: List[int]\n",
        "        \"\"\"\n",
        "\n",
        "        n = len(nums)\n",
        "        output = [1] * n\n",
        "\n",
        "\n",
        "        left_product = 1\n",
        "        for i in range(n):\n",
        "            output[i] = left_product\n",
        "            left_product *= nums[i]\n",
        "\n",
        "\n",
        "        right_product = 1\n",
        "        for i in range(n - 1, -1, -1):\n",
        "            output[i] *= right_product\n",
        "            right_product *= nums[i]\n"
      ],
      "metadata": {
        "id": "8kg0AF8z33By"
      },
      "execution_count": null,
      "outputs": []
    }
  ]
}