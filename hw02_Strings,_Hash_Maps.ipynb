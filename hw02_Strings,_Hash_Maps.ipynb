{
  "nbformat": 4,
  "nbformat_minor": 0,
  "metadata": {
    "colab": {
      "provenance": [],
      "authorship_tag": "ABX9TyObEeFBcyFUXIlcHCux1QaA",
      "include_colab_link": true
    },
    "kernelspec": {
      "name": "python3",
      "display_name": "Python 3"
    },
    "language_info": {
      "name": "python"
    }
  },
  "cells": [
    {
      "cell_type": "markdown",
      "metadata": {
        "id": "view-in-github",
        "colab_type": "text"
      },
      "source": [
        "<a href=\"https://colab.research.google.com/github/SeanMin00/Leetcode-Bootcamp/blob/main/hw02_Strings%2C_Hash_Maps.ipynb\" target=\"_parent\"><img src=\"https://colab.research.google.com/assets/colab-badge.svg\" alt=\"Open In Colab\"/></a>"
      ]
    },
    {
      "cell_type": "markdown",
      "source": [
        "String to integer atoi\n",
        "\n",
        "Find all anagrams in a string\n",
        "\n",
        "Reverse Words in a string"
      ],
      "metadata": {
        "id": "4l9fp6ofJTF3"
      }
    },
    {
      "cell_type": "markdown",
      "source": [
        "#8. String to Integer (atoi)\n",
        "\n",
        "https://leetcode.com/problems/string-to-integer-atoi/description/\n",
        "\n",
        "Implement the myAtoi(string s) function, which converts a string to a 32-bit signed integer.\n",
        "\n",
        "The algorithm for myAtoi(string s) is as follows:\n",
        "\n",
        "Whitespace: Ignore any leading whitespace (\" \").\n",
        "\n",
        "Signedness: Determine the sign by checking if the next character is '-' or '+', assuming positivity if neither present.\n",
        "\n",
        "Conversion: Read the integer by skipping leading zeros until a non-digit character is encountered or the end of the string is reached. If no digits were read, then the result is 0.\n",
        "\n",
        "Rounding: If the integer is out of the 32-bit signed integer range [-231, 231 - 1], then round the integer to remain in the range. Specifically, integers less than -231 should be rounded to -231, and integers greater than 231 - 1 should be rounded to 231 - 1.\n",
        "\n",
        "\n",
        "1.   List item\n",
        "2.   List item\n",
        "\n",
        "\n",
        "Return the integer as the final result."
      ],
      "metadata": {
        "id": "0LYNLYNKFKmy"
      }
    },
    {
      "cell_type": "markdown",
      "source": [],
      "metadata": {
        "id": "8PqGf2V5JPrZ"
      }
    },
    {
      "cell_type": "code",
      "execution_count": null,
      "metadata": {
        "id": "9MeQZz2lFEbh"
      },
      "outputs": [],
      "source": [
        "class Solution:\n",
        "    def myAtoi(self, s):\n",
        "        s = s.strip()\n",
        "        if not s:\n",
        "            return 0\n",
        "\n",
        "        sign = -1 if s[0] == '-' else 1\n",
        "        if s[0] in {'-', '+'}:\n",
        "            s = s[1:]\n",
        "\n",
        "        num = 0\n",
        "        for c in s:\n",
        "            if not c.isdigit():\n",
        "                break\n",
        "            num = num * 10 + int(c)\n",
        "            if sign * num <= -2**31:\n",
        "                return -2**31\n",
        "            if sign * num >= 2**31 - 1:\n",
        "                return 2**31 - 1\n",
        "\n",
        "        return sign * num\n"
      ]
    },
    {
      "cell_type": "code",
      "source": [
        "class Solution:\n",
        "    def myAtoi(self, s):\n",
        "        # 1. 공백 제거 (Whitespace)\n",
        "        s = s.strip()\n",
        "\n",
        "        # 문자열이 비어 있으면 0 반환\n",
        "        if not s:\n",
        "            return 0\n",
        "\n",
        "        # 2. 부호 확인 (Signedness)\n",
        "        sign = -1 if s[0] == '-' else 1  # '-'면 음수, 아니면 양수\n",
        "        if s[0] in {'-', '+'}:  # 부호 문자는 숫자 분석 전에 제거\n",
        "            s = s[1:]\n",
        "\n",
        "        num = 0  # 결과 숫자\n",
        "\n",
        "        # 3. 숫자만 추출 (Conversion)\n",
        "        for c in s:\n",
        "            if not c.isdigit():\n",
        "                break  # 숫자가 아니면 중단\n",
        "            num = num * 10 + int(c)  # 자릿수 확장\n",
        "\n",
        "            # 4. 오버플로우 확인 및 범위 제한 (Rounding)\n",
        "            if sign * num <= -2**31:\n",
        "                return -2**31\n",
        "            if sign * num >= 2**31 - 1:\n",
        "                return 2**31 - 1\n",
        "\n",
        "        # 5. 부호 적용 후 결과 반환\n",
        "        return sign * num\n"
      ],
      "metadata": {
        "id": "Q4N0mNOsIRqn"
      },
      "execution_count": null,
      "outputs": []
    },
    {
      "cell_type": "markdown",
      "source": [
        "# 151. Reverse words in a String\n",
        "\n",
        "Given an input string s, reverse the order of the words.\n",
        "\n",
        "A word is defined as a sequence of non-space characters. The words in s will be separated by at least one space.\n",
        "\n",
        "Return a string of the words in reverse order concatenated by a single space.\n",
        "\n",
        "Note that s may contain leading or trailing spaces or multiple spaces between two words. The returned string should only have a single space separating the words. Do not include any extra spaces.\n",
        "\n",
        "\n",
        "\n",
        "Example 1:\n",
        "\n",
        "Input: s = \"the sky is blue\"\n",
        "Output: \"blue is sky the\"\n",
        "Example 2:\n",
        "\n",
        "Input: s = \"  hello world  \"\n",
        "Output: \"world hello\"\n",
        "Explanation: Your reversed string should not contain leading or trailing spaces.\n",
        "Example 3:\n",
        "\n",
        "Input: s = \"a good   example\"\n",
        "Output: \"example good a\"\n",
        "Explanation: You need to reduce multiple spaces between two words to a single space in the reversed string.\n",
        "\n",
        "문자열에 있는 단어들의 순서를 뒤집기\n",
        "\n",
        "각 단어는 공백이 아닌 문자들의 연속\n",
        "\n",
        "여러 개의 공백, 앞뒤 공백 모두 제거하고\n",
        "단어 사이엔 공백 하나만 남겨야 함"
      ],
      "metadata": {
        "id": "s08aSqQ4ISpX"
      }
    },
    {
      "cell_type": "code",
      "source": [
        "class Solution:\n",
        "    def reverseWords(self, s: str) -> str:\n",
        "        words = []                   # 결과 단어들을 담을 리스트\n",
        "        i, n = 0, len(s)             # i는 현재 위치, n은 전체 길이\n",
        "\n",
        "        while i < n:\n",
        "            # 1. 공백 건너뛰기\n",
        "            while i < n and s[i] == \" \":\n",
        "                i += 1\n",
        "\n",
        "            # 2. 단어 시작 위치 확인\n",
        "            if i < n:\n",
        "                j = i\n",
        "                # 3. 단어 끝까지 이동\n",
        "                while j < n and s[j] != \" \":\n",
        "                    j += 1\n",
        "\n",
        "                # 4. 단어를 잘라서 리스트에 저장\n",
        "                words.append(s[i:j])\n",
        "                i = j  # 다음 단어 탐색을 위해 위치 이동\n",
        "\n",
        "        # 5. 단어 리스트를 뒤집고 한 칸 공백으로 연결\n",
        "        return \" \".join(words[::-1])"
      ],
      "metadata": {
        "id": "UHCb9wzUIiUl"
      },
      "execution_count": null,
      "outputs": []
    },
    {
      "cell_type": "markdown",
      "source": [
        "#438. Find All Anagrams in a String\n",
        "\n",
        "Given two strings s and p, return an array of all the start indices of p's anagrams in s. You may return the answer in any order.\n",
        "\n",
        "\n",
        "\n",
        "Example 1:\n",
        "\n",
        "Input: s = \"cbaebabacd\", p = \"abc\"\n",
        "Output: [0,6]\n",
        "Explanation:\n",
        "The substring with start index = 0 is \"cba\", which is an anagram of \"abc\".\n",
        "The substring with start index = 6 is \"bac\", which is an anagram of \"abc\".\n",
        "Example 2:\n",
        "\n",
        "Input: s = \"abab\", p = \"ab\"\n",
        "Output: [0,1,2]\n",
        "Explanation:\n",
        "The substring with start index = 0 is \"ab\", which is an anagram of \"ab\".\n",
        "The substring with start index = 1 is \"ba\", which is an anagram of \"ab\".\n",
        "The substring with start index = 2 is \"ab\", which is an anagram of \"ab\".\n",
        "\n",
        "\n",
        "✅ 문제 요약\n",
        "입력:\n",
        "\n",
        "문자열 s (길이 최대 30,000)\n",
        "\n",
        "문자열 p (길이 ≤ s)\n",
        "\n",
        "목표:\n",
        "\n",
        "s에서 p의 **애너그램(anagram)**인 부분 문자열의 시작 인덱스를 모두 반환하라.\n",
        "\n",
        "애너그램(anagram)이란?\n",
        "문자의 순서는 다르지만 같은 문자들을 같은 개수만큼 갖고 있는 문자열\n",
        "\n",
        "예: \"abc\"의 애너그램 → \"cba\", \"bca\", \"bac\" 등"
      ],
      "metadata": {
        "id": "8mFyXCdnJlmg"
      }
    },
    {
      "cell_type": "code",
      "source": [
        "from typing import List\n",
        "from collections import Counter\n",
        "\n",
        "class Solution:\n",
        "    def findAnagrams(self, s: str, p: str) -> List[int]:\n",
        "        m, n = len(s), len(p)   # m: 길이 of s, n: 길이 of p\n",
        "        ans = []                # 결과 저장할 리스트\n",
        "\n",
        "        if m < n:\n",
        "            return ans          # s 길이가 p보다 짧으면 무조건 불가능\n",
        "\n",
        "        cnt1 = Counter(p)       # p의 문자 빈도수 카운트\n",
        "        cnt2 = Counter(s[:n-1]) # s의 처음 n-1개 문자 빈도수\n",
        "\n",
        "        # 슬라이딩 윈도우: 길이 n의 윈도우를 한 칸씩 오른쪽으로 이동\n",
        "        for i in range(n - 1, m):\n",
        "            cnt2[s[i]] += 1     # 윈도우에 새 문자 추가 (i번째 문자 포함)\n",
        "\n",
        "            if cnt1 == cnt2:    # 두 카운터가 같다면 애너그램!\n",
        "                ans.append(i - n + 1)  # 시작 인덱스를 결과에 저장\n",
        "\n",
        "            cnt2[s[i - n + 1]] -= 1  # 윈도우에서 맨 앞 문자 제거\n",
        "            if cnt2[s[i - n + 1]] == 0:\n",
        "                del cnt2[s[i - n + 1]]  # 개수가 0이면 dict에서 삭제 (메모리 절약)\n",
        "\n",
        "        return ans\n"
      ],
      "metadata": {
        "id": "jAmpAET2JmpM"
      },
      "execution_count": null,
      "outputs": []
    }
  ]
}