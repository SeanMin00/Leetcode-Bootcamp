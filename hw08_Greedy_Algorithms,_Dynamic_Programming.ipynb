{
  "nbformat": 4,
  "nbformat_minor": 0,
  "metadata": {
    "colab": {
      "provenance": [],
      "authorship_tag": "ABX9TyMwSpFdEvRES/a2jt5TpMzv",
      "include_colab_link": true
    },
    "kernelspec": {
      "name": "python3",
      "display_name": "Python 3"
    },
    "language_info": {
      "name": "python"
    }
  },
  "cells": [
    {
      "cell_type": "markdown",
      "metadata": {
        "id": "view-in-github",
        "colab_type": "text"
      },
      "source": [
        "<a href=\"https://colab.research.google.com/github/SeanMin00/Leetcode-Bootcamp/blob/main/hw08_Greedy_Algorithms%2C_Dynamic_Programming.ipynb\" target=\"_parent\"><img src=\"https://colab.research.google.com/assets/colab-badge.svg\" alt=\"Open In Colab\"/></a>"
      ]
    },
    {
      "cell_type": "markdown",
      "source": [
        "#53. Maximum Subarray\n",
        "https://leetcode.com/problems/maximum-subarray/description/\n",
        "\n",
        "Medium\n",
        "Topics\n",
        "Companies\n",
        "Given an integer array nums, find the subarray with the largest sum, and return its sum.\n",
        "\n",
        "\n",
        "\n",
        "Example 1:\n",
        "\n",
        "Input: nums = [-2,1,-3,4,-1,2,1,-5,4]\n",
        "Output: 6\n",
        "Explanation: The subarray [4,-1,2,1] has the largest sum 6.\n",
        "Example 2:\n",
        "\n",
        "Input: nums = [1]\n",
        "Output: 1\n",
        "Explanation: The subarray [1] has the largest sum 1.\n",
        "Example 3:\n",
        "\n",
        "Input: nums = [5,4,-1,7,8]\n",
        "Output: 23\n",
        "Explanation: The subarray [5,4,-1,7,8] has the largest sum 23.\n",
        "\n",
        "\n",
        "Constraints:\n",
        "\n",
        "1 <= nums.length <= 105\n",
        "-104 <= nums[i] <= 104\n",
        "\n",
        "\n",
        "Follow up: If you have figured out the O(n) solution, try coding another solution using the divide and conquer approach, which is more subtle."
      ],
      "metadata": {
        "id": "BQrEvwUoSj4F"
      }
    },
    {
      "cell_type": "code",
      "execution_count": null,
      "metadata": {
        "id": "neaY8doaQ3nO"
      },
      "outputs": [],
      "source": [
        "class Solution:\n",
        "    def maxSubArray(self, nums: List[int]) -> int:\n",
        "        ans = f = nums[0]                     # 초기값 설정\n",
        "        for x in nums[1:]:\n",
        "            f = max(f, 0) + x                 # 이전 합이 음수면 끊고 새로 시작\n",
        "            ans = max(ans, f)                 # 최댓값 갱신\n",
        "        return ans\n"
      ]
    },
    {
      "cell_type": "markdown",
      "source": [
        "#322. Coin Change\n",
        "https://leetcode.com/problems/coin-change/description/\n",
        "\n",
        "Medium\n",
        "Topics\n",
        "Companies\n",
        "You are given an integer array coins representing coins of different denominations and an integer amount representing a total amount of money.\n",
        "\n",
        "Return the fewest number of coins that you need to make up that amount. If that amount of money cannot be made up by any combination of the coins, return -1.\n",
        "\n",
        "You may assume that you have an infinite number of each kind of coin.\n",
        "\n",
        "\n",
        "\n",
        "Example 1:\n",
        "\n",
        "Input: coins = [1,2,5], amount = 11\n",
        "Output: 3\n",
        "Explanation: 11 = 5 + 5 + 1\n",
        "Example 2:\n",
        "\n",
        "Input: coins = [2], amount = 3\n",
        "Output: -1\n",
        "Example 3:\n",
        "\n",
        "Input: coins = [1], amount = 0\n",
        "Output: 0\n",
        "\n",
        "\n",
        "Constraints:\n",
        "\n",
        "1 <= coins.length <= 12\n",
        "1 <= coins[i] <= 231 - 1\n",
        "0 <= amount <= 104"
      ],
      "metadata": {
        "id": "w3PWDUsASu_q"
      }
    },
    {
      "cell_type": "code",
      "source": [
        "class Solution:\n",
        "    def coinChange(self, coins: List[int], amount: int) -> int:\n",
        "        m, n = len(coins), amount\n",
        "        f = [[float('inf')] * (n + 1) for _ in range(m + 1)]\n",
        "        f[0][0] = 0  # 초기 상태: 동전 0개로 금액 0을 만드는 데 필요한 동전 수는 0\n",
        "\n",
        "        for i, x in enumerate(coins, 1):          # i번째 동전까지 고려\n",
        "            for j in range(n + 1):                # 금액 j를 만들기 위한 시도\n",
        "                f[i][j] = f[i - 1][j]             # 현재 동전 사용하지 않고 만드는 경우\n",
        "                if j >= x:\n",
        "                    # 현재 동전 사용한 경우와 사용하지 않은 경우 중 최소 선택\n",
        "                    f[i][j] = min(f[i][j], f[i][j - x] + 1)\n",
        "\n",
        "        return -1 if f[m][n] == float('inf') else f[m][n]\n"
      ],
      "metadata": {
        "id": "ZaGmCyA1SulG"
      },
      "execution_count": null,
      "outputs": []
    },
    {
      "cell_type": "markdown",
      "source": [
        "#416. Partition Equal Subset Sum\n",
        "https://leetcode.com/problems/partition-equal-subset-sum/description/\n",
        "Medium\n",
        "Topics\n",
        "Companies\n",
        "Given an integer array nums, return true if you can partition the array into two subsets such that the sum of the elements in both subsets is equal or false otherwise.\n",
        "\n",
        "\n",
        "\n",
        "Example 1:\n",
        "\n",
        "Input: nums = [1,5,11,5]\n",
        "Output: true\n",
        "Explanation: The array can be partitioned as [1, 5, 5] and [11].\n",
        "Example 2:\n",
        "\n",
        "Input: nums = [1,2,3,5]\n",
        "Output: false\n",
        "Explanation: The array cannot be partitioned into equal sum subsets.\n",
        "\n",
        "\n",
        "Constraints:\n",
        "\n",
        "1 <= nums.length <= 200\n",
        "1 <= nums[i] <= 100"
      ],
      "metadata": {
        "id": "jUPSOIU7SuVn"
      }
    },
    {
      "cell_type": "code",
      "source": [
        "class Solution:\n",
        "    def canPartition(self, nums: List[int]) -> bool:\n",
        "        m, mod = divmod(sum(nums), 2)\n",
        "        if mod:  # 총합이 홀수이면 나눌 수 없음\n",
        "            return False\n",
        "\n",
        "        n = len(nums)\n",
        "        f = [[False] * (m + 1) for _ in range(n + 1)]\n",
        "        f[0][0] = True  # 초기 상태: 아무 것도 선택 안 해도 합 0은 만들 수 있음\n",
        "\n",
        "        for i, x in enumerate(nums, 1):\n",
        "            for j in range(m + 1):\n",
        "                f[i][j] = f[i - 1][j] or (j >= x and f[i - 1][j - x])\n",
        "\n",
        "        return f[n][m]\n"
      ],
      "metadata": {
        "id": "932Ji3YFS4U8"
      },
      "execution_count": null,
      "outputs": []
    }
  ]
}